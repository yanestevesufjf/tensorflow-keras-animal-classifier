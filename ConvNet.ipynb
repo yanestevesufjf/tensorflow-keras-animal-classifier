{
 "cells": [
  {
   "cell_type": "code",
   "execution_count": 5,
   "id": "a305c70a",
   "metadata": {},
   "outputs": [
    {
     "name": "stdout",
     "output_type": "stream",
     "text": [
      "Epoch 1/5\n",
      "546/546 [==============================] - 137s 250ms/step - loss: 0.6653 - accuracy: 0.6022 - val_loss: 0.6141 - val_accuracy: 0.6587\n",
      "Epoch 2/5\n",
      "546/546 [==============================] - 133s 244ms/step - loss: 0.5776 - accuracy: 0.7012 - val_loss: 0.5559 - val_accuracy: 0.7194\n",
      "Epoch 3/5\n",
      "546/546 [==============================] - 131s 239ms/step - loss: 0.5030 - accuracy: 0.7601 - val_loss: 0.4971 - val_accuracy: 0.7648\n",
      "Epoch 4/5\n",
      "546/546 [==============================] - 139s 254ms/step - loss: 0.4524 - accuracy: 0.7945 - val_loss: 0.4932 - val_accuracy: 0.7635\n",
      "Epoch 5/5\n",
      "546/546 [==============================] - 139s 254ms/step - loss: 0.4160 - accuracy: 0.8126 - val_loss: 0.5011 - val_accuracy: 0.7572\n"
     ]
    },
    {
     "data": {
      "text/plain": [
       "<keras.callbacks.History at 0x20374293940>"
      ]
     },
     "execution_count": 5,
     "metadata": {},
     "output_type": "execute_result"
    }
   ],
   "source": [
    "import tensorflow as tf\n",
    "from tensorflow.keras.models import Sequential\n",
    "from tensorflow.keras.layers import Dense, Dropout, Activation, Flatten\n",
    "from tensorflow.keras.layers import Conv2D, MaxPooling2D\n",
    "# more info on callbakcs: https://keras.io/callbacks/ model saver is cool too.\n",
    "from tensorflow.keras.callbacks import TensorBoard\n",
    "from tensorflow.keras.datasets import cifar10\n",
    "\n",
    "import pickle\n",
    "import time\n",
    "\n",
    "NAME = \"Cats-vs-dogs-cnn-64x2-{}\".format(int(time.time()))\n",
    "\n",
    "#gpu_options = tf.GPUOptions(per_process_gpu_memory_fraction=0.333)\n",
    "#sess = tf.Session(config=tf.ConfigProto(gpu_options=gpu_options))\n",
    "\n",
    "X = pickle.load(open(\"X.pickle\", \"rb\"))\n",
    "y = pickle.load(open(\"y.pickle\", \"rb\"))\n",
    "\n",
    "X = X/255.0 #Normaliza\n",
    "\n",
    "model = Sequential()\n",
    "model.add(Conv2D(64, (3,3), input_shape = X.shape[1:])) #Adiciono uma convulation layer\n",
    "model.add(Activation(\"relu\"))\n",
    "model.add(MaxPooling2D(pool_size=(2,2)))\n",
    "\n",
    "model.add(Conv2D(64, (3,3)))\n",
    "model.add(Activation(\"relu\"))\n",
    "model.add(MaxPooling2D(pool_size=(2,2)))\n",
    "\n",
    "model.add(Flatten())\n",
    "model.add(Dense(64))\n",
    "\n",
    "model.add(Dense(1))\n",
    "model.add(Activation('sigmoid'))\n",
    "# 10 Layers\n",
    "\n",
    "model.compile(loss='binary_crossentropy',\n",
    "              optimizer='adam',\n",
    "              metrics=['accuracy'])\n",
    "\n",
    "#epochs=3, \n",
    "tensorboard = TensorBoard(log_dir='logs/{}'.format(NAME))\n",
    "model.fit(X, y, batch_size=32, epochs=5, validation_split=0.3, callbacks=[tensorboard])"
   ]
  },
  {
   "cell_type": "code",
   "execution_count": null,
   "id": "e3b14fc9",
   "metadata": {},
   "outputs": [],
   "source": []
  }
 ],
 "metadata": {
  "kernelspec": {
   "display_name": "Python 3 (ipykernel)",
   "language": "python",
   "name": "python3"
  },
  "language_info": {
   "codemirror_mode": {
    "name": "ipython",
    "version": 3
   },
   "file_extension": ".py",
   "mimetype": "text/x-python",
   "name": "python",
   "nbconvert_exporter": "python",
   "pygments_lexer": "ipython3",
   "version": "3.9.5"
  }
 },
 "nbformat": 4,
 "nbformat_minor": 5
}
